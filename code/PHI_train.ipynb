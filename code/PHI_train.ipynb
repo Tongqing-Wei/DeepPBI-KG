{
 "cells": [
  {
   "cell_type": "code",
   "execution_count": 3,
   "metadata": {},
   "outputs": [],
   "source": [
    "from __future__ import absolute_import\n",
    "from __future__ import division\n",
    "from __future__ import print_function\n",
    "from sklearn.model_selection import train_test_split\n",
    "from sklearn.preprocessing import StandardScaler\n",
    "from itertools import cycle\n",
    "import numpy as np\n",
    "import pandas as pd\n",
    "import re\n",
    "import os\n",
    "import torch\n",
    "#torch.cuda.current_device() \n",
    "import torch.nn as nn\n",
    "import matplotlib.pyplot as plt\n",
    "from torch.utils.data import Dataset, DataLoader\n",
    "from sklearn.metrics import accuracy_score, precision_score, recall_score, f1_score, classification_report, confusion_matrix\n",
    "from sklearn.preprocessing import label_binarize\n",
    "from sklearn.metrics import roc_curve, auc, mean_squared_error, precision_recall_curve\n",
    "import argparse\n",
    "import pickle\n",
    "import time\n",
    "start_time = time.time()"
   ]
  },
  {
   "cell_type": "code",
   "execution_count": 4,
   "metadata": {},
   "outputs": [],
   "source": [
    "# set random seed\n",
    "np.random.seed(0)\n",
    "torch.manual_seed(0)\n",
    "torch.cuda.manual_seed_all(0)"
   ]
  },
  {
   "cell_type": "code",
   "execution_count": 5,
   "metadata": {},
   "outputs": [
    {
     "name": "stdout",
     "output_type": "stream",
     "text": [
      "construct dataset\n"
     ]
    }
   ],
   "source": [
    "# construct dataset\n",
    "print(\"construct dataset\")\n",
    "class Dataset(Dataset):\n",
    "    def __init__(self, input_data, input_label):\n",
    "        data = []\n",
    "        for i,j in zip(input_data, input_label):\n",
    "            data.append((i,j))\n",
    "        self.data = data\n",
    "\n",
    "    def __len__(self):\n",
    "        return len(self.data)\n",
    "\n",
    "    def __getitem__(self, index):\n",
    "        d, l = self.data[index]\n",
    "        return d, l"
   ]
  },
  {
   "cell_type": "code",
   "execution_count": 215,
   "metadata": {},
   "outputs": [],
   "source": [
    "#define model\n",
    "class DNN(nn.Module):\n",
    "    def __init__(self):\n",
    "        super(DNN,self).__init__()\n",
    "        self.encoder  =  nn.Sequential(\n",
    "            nn.Linear(input_dim,1024),\n",
    "            nn.ReLU(),\n",
    "            nn.Linear(1024, 512),\n",
    "            nn.ReLU(),\n",
    "            nn.Linear(512, 256),\n",
    "            nn.ReLU(),\n",
    "            nn.Linear(256, 128),\n",
    "            nn.ReLU(),\n",
    "            nn.Linear(128, 64),\n",
    "            nn.ReLU(),\n",
    "            nn.Linear(64, 1),\n",
    "            nn.Sigmoid()\n",
    "        )\n",
    "\n",
    "    def forward(self, x):\n",
    "        x = self.encoder(x)\n",
    "        return x"
   ]
  },
  {
   "cell_type": "code",
   "execution_count": 216,
   "metadata": {},
   "outputs": [],
   "source": [
    "# define and plot confusion matrix\n",
    "def get_confusion_matrix(trues, preds):\n",
    "    labels = [0,1,2,3,4,5,6,7,8,9]\n",
    "    conf_matrix = confusion_matrix(trues, preds)\n",
    "    return conf_matrix\n",
    "  \n",
    "def plot_confusion_matrix(conf_matrix, path):\n",
    "    plt.imshow(conf_matrix, cmap=plt.cm.Greens)\n",
    "    indices = range(conf_matrix.shape[0])\n",
    "    labels = [0,1]\n",
    "    plt.xticks(indices, labels)\n",
    "    plt.yticks(indices, labels)\n",
    "    plt.colorbar()\n",
    "    plt.xlabel('y_pred')\n",
    "    plt.ylabel('y_true')\n",
    "    # 显示数据\n",
    "    for first_index in range(conf_matrix.shape[0]):\n",
    "        for second_index in range(conf_matrix.shape[1]):\n",
    "            plt.text(first_index, second_index, conf_matrix[first_index, second_index])\n",
    "    #plt.savefig(path + os.sep + 'heatmap_confusion_matrix.png', dpi = 400)\n",
    "    plt.show()    "
   ]
  },
  {
   "cell_type": "code",
   "execution_count": 412,
   "metadata": {},
   "outputs": [
    {
     "name": "stdout",
     "output_type": "stream",
     "text": [
      "加载数据\n",
      "训练数据： (2422, 2676)\n",
      "测试数据： (4924, 2676)\n"
     ]
    }
   ],
   "source": [
    "if __name__ == '__main__':\n",
    "\n",
    "    #将参数定义好并封装\n",
    "#     parser = argparse.ArgumentParser()\n",
    "#     parser.add_argument('--data', type=str, help = 'input train data file path')\n",
    "#     parser.add_argument('--test', type=str, help = 'input test data file path')\n",
    "#     parser.add_argument('--output', type=str, help = 'output relevant result file path')\n",
    "#     parser.add_argument('--epoch', type=int, help = 'train epoch')\n",
    "#     parser.add_argument('--lr', type=float, help = 'train learning rate')\n",
    "#     opt = parser.parse_args()         \n",
    "    \n",
    "    # 读取数据\n",
    "    #data = pd.read_excel('..../key_gene_train_random_set.xlsx', sheet_name = 'data', header = 0)\n",
    "    data = pd.read_excel('.../Pipeline/PHI_dna_prot_feat_update.xlsx', sheet_name = 'data', header = 0)\n",
    "    #data = pd.read_excel('.../PHI_dna_prot_feat.xlsx', sheet_name = 'dna_prot_feature_Kmeans', header = 0)\n",
    "    #data = pd.read_csv('.../key_CDD_kmeans.csv', header = 0)\n",
    "    #test = pd.read_excel('.../key_gene_union_test_set.xlsx', sheet_name = 'data', header = 0)\n",
    "    #test = pd.read_csv('.../key_CDD_kmeans.csv', header = 0)\n",
    "    test = pd.read_excel('.../Pipeline/wgs_test_set.xlsx', sheet_name = 'data', header = 0)\n",
    "    #test = pd.read_excel('...\\\\external\\\\case.xlsx', sheet_name = 'key_gene_PHI', header = 0)\n",
    "    #test = pd.read_excel('.../test_set.xlsx', sheet_name = 'dna_prot_feat_kmeans', header = 0)\n",
    "    #test = pd.read_excel('...\\\\external\\\\external_PHI.xlsx', sheet_name = 'data', header = 0)\n",
    "    data\n",
    "\n",
    "\n",
    "    print(\"加载数据\")\n",
    "    #data, label = data.iloc[:,:-1], data.iloc[:,-1]\n",
    "    train_data, train_label = data.iloc[:,:-1], data['label']\n",
    "    test_data, test_label = test.iloc[:,:-1], test['label']\n",
    "    #scaler = StandardScaler()\n",
    "    #data = scaler.fit_transform(data)\n",
    "    #train_data, test_data, train_label, test_label = train_test_split(data, label, test_size=.3, random_state=123)\n",
    "    stdScale = StandardScaler().fit(train_data)\n",
    "    train_data = stdScale.transform(train_data)\n",
    "    test_data = stdScale.transform(test_data)\n",
    "    pickle.dump(stdScale, open('.../result/wgs_scaler.pkl', 'wb'))\n",
    "    train_data, test_data, train_label, test_label = np.asarray(train_data), np.asarray(test_data), np.asarray(train_label), np.asarray(test_label)\n",
    "    print('训练数据：', train_data.shape)\n",
    "    print('测试数据：', test_data.shape)"
   ]
  },
  {
   "cell_type": "code",
   "execution_count": 401,
   "metadata": {},
   "outputs": [
    {
     "name": "stdout",
     "output_type": "stream",
     "text": [
      "定义相关参数\n"
     ]
    }
   ],
   "source": [
    "# 定义相关参数\n",
    "print(\"定义相关参数\")\n",
    "epochs = 30\n",
    "batch_size = train_data.shape[0]\n",
    "device = torch.device(\"cuda:0\" if torch.cuda.is_available() else \"cpu\") \n",
    "torch.backends.cudnn.enable =True\n",
    "input_dim = train_data.shape[1]"
   ]
  },
  {
   "cell_type": "code",
   "execution_count": 402,
   "metadata": {},
   "outputs": [],
   "source": [
    "# 数据加载器\n",
    "trainDataset = Dataset(train_data, train_label)\n",
    "testDataset = Dataset(test_data, test_label)\n",
    "# print(trainDataset[0])\n",
    "# print(trainDataset[0])\n",
    "trainDataLoader = DataLoader(trainDataset, batch_size=batch_size, shuffle=True, num_workers=0)\n",
    "testDataLoader = DataLoader(testDataset, batch_size=batch_size, shuffle=False, num_workers=0)"
   ]
  },
  {
   "cell_type": "code",
   "execution_count": 403,
   "metadata": {},
   "outputs": [
    {
     "name": "stdout",
     "output_type": "stream",
     "text": [
      "DNN(\n",
      "  (encoder): Sequential(\n",
      "    (0): Linear(in_features=2676, out_features=1024, bias=True)\n",
      "    (1): ReLU()\n",
      "    (2): Linear(in_features=1024, out_features=512, bias=True)\n",
      "    (3): ReLU()\n",
      "    (4): Linear(in_features=512, out_features=256, bias=True)\n",
      "    (5): ReLU()\n",
      "    (6): Linear(in_features=256, out_features=128, bias=True)\n",
      "    (7): ReLU()\n",
      "    (8): Linear(in_features=128, out_features=64, bias=True)\n",
      "    (9): ReLU()\n",
      "    (10): Linear(in_features=64, out_features=1, bias=True)\n",
      "    (11): Sigmoid()\n",
      "  )\n",
      ")\n",
      "定义损失函数、优化器\n",
      "初始化相关参数\n"
     ]
    }
   ],
   "source": [
    "# 定义损失函数、优化器和初始化相关参数\n",
    "model = DNN()\n",
    "print(model)\n",
    "model.to(device)\n",
    "\n",
    "print(\"定义损失函数、优化器\")\n",
    "criterion = nn.BCELoss()\n",
    "optimizer = torch.optim.Adam(model.parameters(), lr=0.005, weight_decay=1e-4)\n",
    "\n",
    "print(\"初始化相关参数\")\n",
    "for param in model.parameters():\n",
    "    nn.init.normal_(param, mean=0, std=0.01)"
   ]
  },
  {
   "cell_type": "code",
   "execution_count": 404,
   "metadata": {
    "scrolled": false
   },
   "outputs": [
    {
     "name": "stdout",
     "output_type": "stream",
     "text": [
      "开始训练主循环\n"
     ]
    },
    {
     "name": "stderr",
     "output_type": "stream",
     "text": [
      "C:\\Users\\admin\\Anaconda3\\lib\\site-packages\\sklearn\\metrics\\_classification.py:1221: UndefinedMetricWarning: Precision is ill-defined and being set to 0.0 in labels with no predicted samples. Use `zero_division` parameter to control this behavior.\n",
      "  _warn_prf(average, modifier, msg_start, len(result))\n"
     ]
    },
    {
     "name": "stdout",
     "output_type": "stream",
     "text": [
      "[sklearn_metrics] Epoch:0 loss:0.6931\n",
      "0.4874933475252794 0.2437466737626397 0.5 0.32772808586762076\n",
      "[sklearn_metrics] Epoch:1 loss:0.6931\n",
      "0.5125066524747206 0.2562533262373603 0.5 0.33884588318085856\n",
      "[sklearn_metrics] Epoch:2 loss:0.6930\n",
      "0.5125066524747206 0.2562533262373603 0.5 0.33884588318085856\n",
      "[sklearn_metrics] Epoch:3 loss:0.6929\n",
      "0.5125066524747206 0.2562533262373603 0.5 0.33884588318085856\n",
      "[sklearn_metrics] Epoch:4 loss:0.6925\n",
      "0.5125066524747206 0.2562533262373603 0.5 0.33884588318085856\n",
      "[sklearn_metrics] Epoch:5 loss:0.6702\n",
      "0.5125066524747206 0.2562533262373603 0.5 0.33884588318085856\n",
      "[sklearn_metrics] Epoch:6 loss:0.8656\n",
      "0.5125066524747206 0.2562533262373603 0.5 0.33884588318085856\n",
      "[sklearn_metrics] Epoch:7 loss:0.6930\n",
      "0.5125066524747206 0.2562533262373603 0.5 0.33884588318085856\n",
      "[sklearn_metrics] Epoch:8 loss:0.6929\n",
      "0.5125066524747206 0.2562533262373603 0.5 0.33884588318085856\n",
      "[sklearn_metrics] Epoch:9 loss:0.6932\n",
      "0.5125066524747206 0.576797385620915 0.5229909489540964 0.4162522147064649\n",
      "[sklearn_metrics] Epoch:10 loss:0.6940\n",
      "0.4976051091005854 0.6017387616624258 0.5095186757177126 0.3601096681096681\n",
      "[sklearn_metrics] Epoch:11 loss:0.6938\n",
      "0.50345928685471 0.5913875764313508 0.5149103057675477 0.3809092979770424\n",
      "[sklearn_metrics] Epoch:12 loss:0.6931\n",
      "0.4912187333688132 0.42854140132690693 0.4805369637277975 0.3697144156383684\n",
      "[sklearn_metrics] Epoch:13 loss:0.6927\n",
      "0.5125066524747206 0.2562533262373603 0.5 0.33884588318085856\n",
      "[sklearn_metrics] Epoch:14 loss:0.6924\n",
      "0.5125066524747206 0.2562533262373603 0.5 0.33884588318085856\n",
      "[sklearn_metrics] Epoch:15 loss:0.6922\n",
      "0.5125066524747206 0.2562533262373603 0.5 0.33884588318085856\n",
      "[sklearn_metrics] Epoch:16 loss:0.6916\n",
      "0.5125066524747206 0.2562533262373603 0.5 0.33884588318085856\n",
      "[sklearn_metrics] Epoch:17 loss:0.6910\n",
      "0.5125066524747206 0.2562533262373603 0.5 0.33884588318085856\n",
      "[sklearn_metrics] Epoch:18 loss:0.6905\n",
      "0.5125066524747206 0.2562533262373603 0.5 0.33884588318085856\n",
      "[sklearn_metrics] Epoch:19 loss:0.6900\n",
      "0.5125066524747206 0.2562533262373603 0.5 0.33884588318085856\n",
      "[sklearn_metrics] Epoch:20 loss:0.6886\n",
      "0.5125066524747206 0.2562533262373603 0.5 0.33884588318085856\n",
      "[sklearn_metrics] Epoch:21 loss:0.6886\n",
      "0.5125066524747206 0.2562533262373603 0.5 0.33884588318085856\n",
      "[sklearn_metrics] Epoch:22 loss:0.6864\n",
      "0.5125066524747206 0.2562533262373603 0.5 0.33884588318085856\n",
      "[sklearn_metrics] Epoch:23 loss:0.6857\n",
      "0.5125066524747206 0.2562533262373603 0.5 0.33884588318085856\n",
      "[sklearn_metrics] Epoch:24 loss:0.6829\n",
      "0.5125066524747206 0.2562533262373603 0.5 0.33884588318085856\n",
      "[sklearn_metrics] Epoch:25 loss:0.6831\n",
      "0.5125066524747206 0.2562533262373603 0.5 0.33884588318085856\n",
      "[sklearn_metrics] Epoch:26 loss:0.6786\n",
      "0.5125066524747206 0.2562533262373603 0.5 0.33884588318085856\n",
      "[sklearn_metrics] Epoch:27 loss:0.6752\n",
      "0.5119744544970729 0.25612353567625135 0.4994807892004154 0.3386131643787399\n",
      "[sklearn_metrics] Epoch:28 loss:0.6707\n",
      "0.5114422565194252 0.25599360681939265 0.4989615784008307 0.33838028169014084\n",
      "[sklearn_metrics] Epoch:29 loss:0.6696\n",
      "0.5396487493347525 0.598615326833456 0.5291704643875806 0.43393699780970063\n",
      "              precision    recall  f1-score   support\n",
      "\n",
      "           0       0.93      0.06      0.11      1717\n",
      "           1       0.57      1.00      0.72      2123\n",
      "\n",
      "    accuracy                           0.58      3840\n",
      "   macro avg       0.75      0.53      0.41      3840\n",
      "weighted avg       0.73      0.58      0.45      3840\n",
      "\n",
      "[[  96 1621]\n",
      " [   7 2116]]\n"
     ]
    },
    {
     "data": {
      "image/png": "[encoded data removed]",
      "text/plain": [
       "<Figure size 432x288 with 2 Axes>"
      ]
     },
     "metadata": {
      "needs_background": "light"
     },
     "output_type": "display_data"
    },
    {
     "name": "stdout",
     "output_type": "stream",
     "text": [
      "[sklearn_metrics] accuracy:0.5760 precision:0.7491 recall:0.5263 f1:0.4138\n"
     ]
    }
   ],
   "source": [
    "# 进行训练和测试\n",
    "print(\"开始训练主循环\")\n",
    "model.train()\n",
    "for epoch in range(epochs):\n",
    "    tot_loss = 0.0\n",
    "    train_preds = []\n",
    "    train_trues = []\n",
    "    # model.train()\n",
    "    for i,(train_data_batch, train_label_batch) in enumerate(trainDataLoader):\n",
    "        train_data_batch = train_data_batch.float().to(device) # 将double数据转换为float\n",
    "        train_label_batch = train_label_batch.to(device)\n",
    "        outputs = model(train_data_batch)\n",
    "        outputs = outputs.squeeze(dim=-1)\n",
    "        # _, preds = torch.max(outputs.data, 1)\n",
    "        loss = criterion(outputs, train_label_batch.float())\n",
    "        # print(loss)\n",
    "        #反向传播优化网络参数\n",
    "        loss.backward()\n",
    "        optimizer.step()\n",
    "        optimizer.zero_grad()\n",
    "        #累加每个step的损失\n",
    "        tot_loss += loss.data\n",
    "        train_outputs = outputs.ge(0.5).float()\n",
    "\n",
    "        train_preds.extend(train_outputs.cpu().numpy())\n",
    "        train_trues.extend(train_label_batch.detach().cpu().numpy())\n",
    "\n",
    "\n",
    "    sklearn_accuracy = accuracy_score(train_trues, train_preds) \n",
    "    sklearn_precision = precision_score(train_trues, train_preds, average='macro')\n",
    "    sklearn_recall = recall_score(train_trues, train_preds, average='macro')\n",
    "    sklearn_f1 = f1_score(train_trues, train_preds, average='macro')\n",
    "    print(\"[sklearn_metrics] Epoch:{} loss:{:.4f}\".format(epoch, tot_loss))\n",
    "    print(sklearn_accuracy, sklearn_precision, sklearn_recall, sklearn_f1)\n",
    "\n",
    "\n",
    "test_preds = []\n",
    "test_trues = []\n",
    "test_probs = []\n",
    "torch.save(model.state_dict(), 'E:/公共数据/result/rbp_random_model.pth')\n",
    "model.eval()\n",
    "with torch.no_grad():\n",
    "    for i,(test_data_batch, test_data_label) in enumerate(testDataLoader):\n",
    "        test_data_batch = test_data_batch.float().to(device) # 将double数据转换为float\n",
    "        test_data_label = test_data_label.to(device)\n",
    "        test_outputs = model(test_data_batch)\n",
    "        test_output = test_outputs.ge(0.5).float()\n",
    "        test_preds.extend(test_output.detach().cpu().numpy())\n",
    "        test_trues.extend(test_data_label.detach().cpu().numpy())\n",
    "        test_probs.extend(test_outputs.detach().cpu().numpy())\n",
    "\n",
    "    sklearn_accuracy = accuracy_score(test_trues, test_preds)\n",
    "    sklearn_precision = precision_score(test_trues, test_preds, average='macro')\n",
    "    sklearn_recall = recall_score(test_trues, test_preds, average='macro')\n",
    "    sklearn_f1 = f1_score(test_trues, test_preds, average='macro')\n",
    "\n",
    "    print(classification_report(test_trues, test_preds))\n",
    "    conf_matrix = get_confusion_matrix(test_trues, test_preds)\n",
    "    print(conf_matrix)\n",
    "    plot_confusion_matrix(conf_matrix, '')\n",
    "    print(\"[sklearn_metrics] accuracy:{:.4f} precision:{:.4f} recall:{:.4f} f1:{:.4f}\".format(sklearn_accuracy, sklearn_precision, sklearn_recall, sklearn_f1))"
   ]
  },
  {
   "cell_type": "code",
   "execution_count": 405,
   "metadata": {},
   "outputs": [
    {
     "name": "stdout",
     "output_type": "stream",
     "text": [
      "AUPR :  0.8541408773083137\n",
      "AUC :  0.8519605694187218\n"
     ]
    },
    {
     "data": {
      "image/png": "[encoded data removed]",
      "text/plain": [
       "<Figure size 504x396 with 1 Axes>"
      ]
     },
     "metadata": {
      "needs_background": "light"
     },
     "output_type": "display_data"
    },
    {
     "name": "stdout",
     "output_type": "stream",
     "text": [
      "--- 2901.119217157364 seconds ---\n"
     ]
    }
   ],
   "source": [
    "precision, recall, _thresholds = precision_recall_curve(test_label,test_probs)\n",
    "roc_auc = auc(recall, precision)\n",
    "print(\"AUPR : \", roc_auc)\n",
    "\n",
    "# 二分类　ＲＯＣ曲线\n",
    "# roc_curve:真正率（True Positive Rate , TPR）或灵敏度（sensitivity）\n",
    "# 横坐标：假正率（False Positive Rate , FPR）\n",
    "fpr, tpr, thresholds_keras = roc_curve(test_trues, test_probs)\n",
    "roc_auc = auc(fpr, tpr)\n",
    "print(\"AUC : \", roc_auc)\n",
    "plt.subplots(figsize=(7,5.5));\n",
    "plt.plot(fpr, tpr, color='darkorange',\n",
    "         lw=2, label='ROC curve (area = %0.2f)' % roc_auc)\n",
    "plt.plot([0, 1], [0, 1], color='navy', lw=2, linestyle='--')\n",
    "plt.xlim([0.0, 1.0])\n",
    "plt.ylim([0.0, 1.05])\n",
    "plt.xlabel('False positive rate')\n",
    "plt.ylabel('True positive rate')\n",
    "plt.title('ROC curve')\n",
    "plt.legend(loc=\"lower right\")\n",
    "#plt.savefig(opt.output + os.sep + \"ROC.png\", dpi = 400)\n",
    "plt.show()\n",
    "\n",
    "print(\"--- %s seconds ---\" % (time.time() - start_time))"
   ]
  },
  {
   "cell_type": "code",
   "execution_count": 406,
   "metadata": {},
   "outputs": [
    {
     "data": {
      "text/html": [
       "<div>\n",
       "<style scoped>\n",
       "    .dataframe tbody tr th:only-of-type {\n",
       "        vertical-align: middle;\n",
       "    }\n",
       "\n",
       "    .dataframe tbody tr th {\n",
       "        vertical-align: top;\n",
       "    }\n",
       "\n",
       "    .dataframe thead th {\n",
       "        text-align: right;\n",
       "    }\n",
       "</style>\n",
       "<table border=\"1\" class=\"dataframe\">\n",
       "  <thead>\n",
       "    <tr style=\"text-align: right;\">\n",
       "      <th></th>\n",
       "      <th>label</th>\n",
       "      <th>pred</th>\n",
       "      <th>prob</th>\n",
       "    </tr>\n",
       "  </thead>\n",
       "  <tbody>\n",
       "    <tr>\n",
       "      <th>0</th>\n",
       "      <td>1</td>\n",
       "      <td>1.0</td>\n",
       "      <td>0.739562</td>\n",
       "    </tr>\n",
       "    <tr>\n",
       "      <th>1</th>\n",
       "      <td>1</td>\n",
       "      <td>1.0</td>\n",
       "      <td>0.706634</td>\n",
       "    </tr>\n",
       "    <tr>\n",
       "      <th>2</th>\n",
       "      <td>1</td>\n",
       "      <td>1.0</td>\n",
       "      <td>0.709106</td>\n",
       "    </tr>\n",
       "    <tr>\n",
       "      <th>3</th>\n",
       "      <td>1</td>\n",
       "      <td>1.0</td>\n",
       "      <td>0.712329</td>\n",
       "    </tr>\n",
       "    <tr>\n",
       "      <th>4</th>\n",
       "      <td>1</td>\n",
       "      <td>1.0</td>\n",
       "      <td>0.755265</td>\n",
       "    </tr>\n",
       "    <tr>\n",
       "      <th>...</th>\n",
       "      <td>...</td>\n",
       "      <td>...</td>\n",
       "      <td>...</td>\n",
       "    </tr>\n",
       "    <tr>\n",
       "      <th>3835</th>\n",
       "      <td>0</td>\n",
       "      <td>1.0</td>\n",
       "      <td>0.585164</td>\n",
       "    </tr>\n",
       "    <tr>\n",
       "      <th>3836</th>\n",
       "      <td>0</td>\n",
       "      <td>1.0</td>\n",
       "      <td>0.521965</td>\n",
       "    </tr>\n",
       "    <tr>\n",
       "      <th>3837</th>\n",
       "      <td>0</td>\n",
       "      <td>1.0</td>\n",
       "      <td>0.696294</td>\n",
       "    </tr>\n",
       "    <tr>\n",
       "      <th>3838</th>\n",
       "      <td>0</td>\n",
       "      <td>1.0</td>\n",
       "      <td>0.695427</td>\n",
       "    </tr>\n",
       "    <tr>\n",
       "      <th>3839</th>\n",
       "      <td>0</td>\n",
       "      <td>1.0</td>\n",
       "      <td>0.514522</td>\n",
       "    </tr>\n",
       "  </tbody>\n",
       "</table>\n",
       "<p>3840 rows × 3 columns</p>\n",
       "</div>"
      ],
      "text/plain": [
       "      label  pred      prob\n",
       "0         1   1.0  0.739562\n",
       "1         1   1.0  0.706634\n",
       "2         1   1.0  0.709106\n",
       "3         1   1.0  0.712329\n",
       "4         1   1.0  0.755265\n",
       "...     ...   ...       ...\n",
       "3835      0   1.0  0.585164\n",
       "3836      0   1.0  0.521965\n",
       "3837      0   1.0  0.696294\n",
       "3838      0   1.0  0.695427\n",
       "3839      0   1.0  0.514522\n",
       "\n",
       "[3840 rows x 3 columns]"
      ]
     },
     "execution_count": 406,
     "metadata": {},
     "output_type": "execute_result"
    }
   ],
   "source": [
    "res = pd.DataFrame()\n",
    "res['label'] = test_trues\n",
    "for i in range(len(test_preds)):\n",
    "    test_preds[i] = test_preds[i][0]\n",
    "    test_probs[i] = test_probs[i][0]\n",
    "res['pred'] = test_preds\n",
    "res['prob'] = test_probs\n",
    "res"
   ]
  },
  {
   "cell_type": "code",
   "execution_count": 418,
   "metadata": {},
   "outputs": [
    {
     "data": {
      "text/plain": [
       "array([0.66925704, 0.6452694 , 0.67241865, ..., 0.6435786 , 0.5299428 ,\n",
       "       0.5269049 ], dtype=float32)"
      ]
     },
     "execution_count": 418,
     "metadata": {},
     "output_type": "execute_result"
    }
   ],
   "source": [
    "model(torch.tensor(test_data).to(device).float()).detach().cpu().numpy().flatten()"
   ]
  },
  {
   "cell_type": "code",
   "execution_count": 407,
   "metadata": {},
   "outputs": [],
   "source": [
    "res.to_csv('.../result/rbp_test_random.csv', index = False)"
   ]
  },
  {
   "cell_type": "code",
   "execution_count": 416,
   "metadata": {},
   "outputs": [
    {
     "data": {
      "text/plain": [
       "tensor([0.6693], device='cuda:0', grad_fn=<SigmoidBackward>)"
      ]
     },
     "execution_count": 416,
     "metadata": {},
     "output_type": "execute_result"
    }
   ],
   "source": [
    "model(torch.tensor(test_data[0]).to(device).float())"
   ]
  },
  {
   "cell_type": "code",
   "execution_count": null,
   "metadata": {},
   "outputs": [],
   "source": []
  }
 ],
 "metadata": {
  "kernelspec": {
   "display_name": "Python 3",
   "language": "python",
   "name": "python3"
  },
  "language_info": {
   "codemirror_mode": {
    "name": "ipython",
    "version": 3
   },
   "file_extension": ".py",
   "mimetype": "text/x-python",
   "name": "python",
   "nbconvert_exporter": "python",
   "pygments_lexer": "ipython3",
   "version": "3.7.0"
  }
 },
 "nbformat": 4,
 "nbformat_minor": 2
}
